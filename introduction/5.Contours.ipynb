{
 "cells": [
  {
   "cell_type": "code",
   "execution_count": 1,
   "metadata": {},
   "outputs": [],
   "source": [
    "import cv2 as cv\n",
    "import numpy as np"
   ]
  },
  {
   "cell_type": "code",
   "execution_count": 2,
   "metadata": {},
   "outputs": [
    {
     "name": "stdout",
     "output_type": "stream",
     "text": [
      "700 contour(s) found\n"
     ]
    },
    {
     "data": {
      "text/plain": [
       "-1"
      ]
     },
     "execution_count": 2,
     "metadata": {},
     "output_type": "execute_result"
    }
   ],
   "source": [
    "img=cv.imread(\"C:\\\\Users\\\\Armaan\\\\OneDrive\\\\Desktop\\\\Workspace\\\\OpenCV\\\\Images\\\\2.jpg\")\n",
    "cv.imshow(\"Cherry\",img)\n",
    "\n",
    "\n",
    "grey=cv.cvtColor(img,cv.COLOR_BGR2GRAY)\n",
    "cv.imshow('Gray',grey)\n",
    "\n",
    "# blur=cv.GaussianBlur(grey,(5,5),cv.BORDER_DEFAULT)\n",
    "\n",
    "# canny=cv.Canny(blur,125,175)\n",
    "# cv.imshow('Canny img',canny)\n",
    "\n",
    "blank=np.zeros(img.shape,dtype=\"uint8\")\n",
    "cv.imshow(\"Blank\",blank)\n",
    "\n",
    "ret,thresh=cv.threshold(grey,125,255,cv.THRESH_BINARY)\n",
    "cv.imshow(\"Thresh\",thresh)\n",
    "\n",
    "contours,hierarchies=cv.findContours(thresh,cv.RETR_LIST,cv.CHAIN_APPROX_NONE)\n",
    "print(f'{len(contours)} contour(s) found')\n",
    "\n",
    "cv.drawContours(blank,contours,-1,(123,234,12),thickness=1)\n",
    "\n",
    "\n",
    "cv.imshow('Contours',blank)\n",
    "\n",
    "\n",
    "cv.waitKey(0)"
   ]
  },
  {
   "cell_type": "code",
   "execution_count": null,
   "metadata": {},
   "outputs": [],
   "source": []
  }
 ],
 "metadata": {
  "kernelspec": {
   "display_name": "main",
   "language": "python",
   "name": "python3"
  },
  "language_info": {
   "codemirror_mode": {
    "name": "ipython",
    "version": 3
   },
   "file_extension": ".py",
   "mimetype": "text/x-python",
   "name": "python",
   "nbconvert_exporter": "python",
   "pygments_lexer": "ipython3",
   "version": "3.11.4"
  },
  "orig_nbformat": 4
 },
 "nbformat": 4,
 "nbformat_minor": 2
}
