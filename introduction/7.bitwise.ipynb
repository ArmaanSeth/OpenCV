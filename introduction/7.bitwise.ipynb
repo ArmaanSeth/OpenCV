{
 "cells": [
  {
   "cell_type": "code",
   "execution_count": 1,
   "metadata": {},
   "outputs": [],
   "source": [
    "import cv2 as cv\n",
    "import numpy as np"
   ]
  },
  {
   "cell_type": "code",
   "execution_count": 6,
   "metadata": {},
   "outputs": [
    {
     "data": {
      "text/plain": [
       "-1"
      ]
     },
     "execution_count": 6,
     "metadata": {},
     "output_type": "execute_result"
    }
   ],
   "source": [
    "blank=np.zeros((400,400),dtype=np.uint8)\n",
    "\n",
    "rectangle=cv.rectangle(blank.copy(),(40,40),(360,360),255,-1)\n",
    "circle=cv.circle(blank.copy(),(200,200),200,255,-1)\n",
    "\n",
    "cv.imshow(\"Rectangle\",rectangle)\n",
    "cv.imshow(\"Circle\",circle)\n",
    "\n",
    "#BITWISE AND \n",
    "bitwiseAND=cv.bitwise_and(rectangle,circle)\n",
    "cv.imshow(\"AND\",bitwiseAND)\n",
    "\n",
    "#BITWISE OR \n",
    "bitwiseOR=cv.bitwise_or(rectangle,circle)\n",
    "cv.imshow(\"OR\",bitwiseOR)\n",
    "\n",
    "#BITWISE XOR \n",
    "bitwiseXOR=cv.bitwise_xor(rectangle,circle)\n",
    "cv.imshow(\"XOR\",bitwiseXOR)\n",
    "\n",
    "#BITWISE NOT \n",
    "bitwiseNOT1=cv.bitwise_not(rectangle,circle)\n",
    "cv.imshow(\"OR\",bitwiseNOT1)\n",
    "\n",
    "bitwiseNOT2=cv.bitwise_not(rectangle,circle)\n",
    "cv.imshow(\"OR\",bitwiseNOT2)\n",
    "\n",
    "cv.waitKey(0)"
   ]
  },
  {
   "cell_type": "code",
   "execution_count": null,
   "metadata": {},
   "outputs": [],
   "source": []
  }
 ],
 "metadata": {
  "kernelspec": {
   "display_name": "main",
   "language": "python",
   "name": "python3"
  },
  "language_info": {
   "codemirror_mode": {
    "name": "ipython",
    "version": 3
   },
   "file_extension": ".py",
   "mimetype": "text/x-python",
   "name": "python",
   "nbconvert_exporter": "python",
   "pygments_lexer": "ipython3",
   "version": "3.10.11"
  },
  "orig_nbformat": 4
 },
 "nbformat": 4,
 "nbformat_minor": 2
}
