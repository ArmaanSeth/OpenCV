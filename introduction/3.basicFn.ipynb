{
 "cells": [
  {
   "cell_type": "code",
   "execution_count": 1,
   "metadata": {},
   "outputs": [],
   "source": [
    "import cv2 as cv"
   ]
  },
  {
   "cell_type": "code",
   "execution_count": 2,
   "metadata": {},
   "outputs": [
    {
     "data": {
      "text/plain": [
       "-1"
      ]
     },
     "execution_count": 2,
     "metadata": {},
     "output_type": "execute_result"
    }
   ],
   "source": [
    "#Grayscale\n",
    "\n",
    "img=cv.imread(\"C:\\\\Users\\\\Armaan\\\\OneDrive\\\\Desktop\\\\Workspace\\\\OpenCV\\\\Images\\\\2.jpg\")\n",
    "grey=cv.cvtColor(img,cv.COLOR_BGR2GRAY)\n",
    "cv.imshow('Grey',grey)\n",
    "\n",
    "cv.waitKey(0)"
   ]
  },
  {
   "cell_type": "code",
   "execution_count": 3,
   "metadata": {},
   "outputs": [
    {
     "data": {
      "text/plain": [
       "-1"
      ]
     },
     "execution_count": 3,
     "metadata": {},
     "output_type": "execute_result"
    }
   ],
   "source": [
    "#Blur img\n",
    "\n",
    "img=cv.imread(\"C:\\\\Users\\\\Armaan\\\\OneDrive\\\\Desktop\\\\Workspace\\\\OpenCV\\\\Images\\\\2.jpg\")\n",
    "blur=cv.GaussianBlur(img,(7,7),cv.BORDER_DEFAULT) #odd values only in kernel\n",
    "cv.imshow('Blur',blur)\n",
    "\n",
    "cv.waitKey(0)"
   ]
  },
  {
   "cell_type": "code",
   "execution_count": 4,
   "metadata": {},
   "outputs": [
    {
     "data": {
      "text/plain": [
       "-1"
      ]
     },
     "execution_count": 4,
     "metadata": {},
     "output_type": "execute_result"
    }
   ],
   "source": [
    "#Edge Cascade\n",
    "\n",
    "img=cv.imread(\"C:\\\\Users\\\\Armaan\\\\OneDrive\\\\Desktop\\\\Workspace\\\\OpenCV\\\\Images\\\\2.jpg\")\n",
    "canny=cv.Canny(img,125,175)\n",
    "# canny=cv.Canny(blur,125,175)\n",
    "cv.imshow('Canny Edge',canny)\n",
    "\n",
    "cv.waitKey(0)"
   ]
  },
  {
   "cell_type": "code",
   "execution_count": 2,
   "metadata": {},
   "outputs": [
    {
     "ename": "NameError",
     "evalue": "name 'canny' is not defined",
     "output_type": "error",
     "traceback": [
      "\u001b[1;31m---------------------------------------------------------------------------\u001b[0m",
      "\u001b[1;31mNameError\u001b[0m                                 Traceback (most recent call last)",
      "Cell \u001b[1;32mIn[2], line 4\u001b[0m\n\u001b[0;32m      1\u001b[0m \u001b[38;5;66;03m#Dialating\u001b[39;00m\n\u001b[0;32m      3\u001b[0m img\u001b[38;5;241m=\u001b[39mcv\u001b[38;5;241m.\u001b[39mimread(\u001b[38;5;124m\"\u001b[39m\u001b[38;5;124mC:\u001b[39m\u001b[38;5;130;01m\\\\\u001b[39;00m\u001b[38;5;124mUsers\u001b[39m\u001b[38;5;130;01m\\\\\u001b[39;00m\u001b[38;5;124mArmaan\u001b[39m\u001b[38;5;130;01m\\\\\u001b[39;00m\u001b[38;5;124mOneDrive\u001b[39m\u001b[38;5;130;01m\\\\\u001b[39;00m\u001b[38;5;124mDesktop\u001b[39m\u001b[38;5;130;01m\\\\\u001b[39;00m\u001b[38;5;124mWorkspace\u001b[39m\u001b[38;5;130;01m\\\\\u001b[39;00m\u001b[38;5;124mOpenCV\u001b[39m\u001b[38;5;130;01m\\\\\u001b[39;00m\u001b[38;5;124mImages\u001b[39m\u001b[38;5;130;01m\\\\\u001b[39;00m\u001b[38;5;124m2.jpg\u001b[39m\u001b[38;5;124m\"\u001b[39m)\n\u001b[1;32m----> 4\u001b[0m dialate\u001b[38;5;241m=\u001b[39mcv\u001b[38;5;241m.\u001b[39mdilate(\u001b[43mcanny\u001b[49m,(\u001b[38;5;241m9\u001b[39m,\u001b[38;5;241m9\u001b[39m),iterations\u001b[38;5;241m=\u001b[39m\u001b[38;5;241m1\u001b[39m)\n\u001b[0;32m      5\u001b[0m cv\u001b[38;5;241m.\u001b[39mimshow(\u001b[38;5;124m'\u001b[39m\u001b[38;5;124mDialated Img\u001b[39m\u001b[38;5;124m'\u001b[39m,dialate)\n\u001b[0;32m      7\u001b[0m cv\u001b[38;5;241m.\u001b[39mwaitKey(\u001b[38;5;241m0\u001b[39m)\n",
      "\u001b[1;31mNameError\u001b[0m: name 'canny' is not defined"
     ]
    }
   ],
   "source": [
    "#Dialating\n",
    "\n",
    "img=cv.imread(\"C:\\\\Users\\\\Armaan\\\\OneDrive\\\\Desktop\\\\Workspace\\\\OpenCV\\\\Images\\\\2.jpg\")\n",
    "dialate=cv.dilate(canny,(9,9),iterations=1)\n",
    "cv.imshow('Dialated Img',dialate)\n",
    "\n",
    "cv.waitKey(0)"
   ]
  },
  {
   "cell_type": "code",
   "execution_count": 30,
   "metadata": {},
   "outputs": [
    {
     "data": {
      "text/plain": [
       "-1"
      ]
     },
     "execution_count": 30,
     "metadata": {},
     "output_type": "execute_result"
    }
   ],
   "source": [
    "#Eroding\n",
    "\n",
    "img=cv.imread(\"C:\\\\Users\\\\Armaan\\\\OneDrive\\\\Desktop\\\\Workspace\\\\OpenCV\\\\Images\\\\2.jpg\")\n",
    "eroded=cv.erode(dialate,(9,9),iterations=1)\n",
    "cv.imshow('Eroded Img',eroded)\n",
    "\n",
    "cv.waitKey(0)"
   ]
  },
  {
   "cell_type": "code",
   "execution_count": 34,
   "metadata": {},
   "outputs": [
    {
     "data": {
      "text/plain": [
       "-1"
      ]
     },
     "execution_count": 34,
     "metadata": {},
     "output_type": "execute_result"
    }
   ],
   "source": [
    "#resize\n",
    "\n",
    "img=cv.imread(\"C:\\\\Users\\\\Armaan\\\\OneDrive\\\\Desktop\\\\Workspace\\\\OpenCV\\\\Images\\\\2.jpg\")\n",
    "resized=cv.resize(img,(500,250))\n",
    "cv.imshow(\"Resized\",resized)\n",
    "\n",
    "cv.waitKey(0)"
   ]
  },
  {
   "cell_type": "code",
   "execution_count": 35,
   "metadata": {},
   "outputs": [
    {
     "data": {
      "text/plain": [
       "-1"
      ]
     },
     "execution_count": 35,
     "metadata": {},
     "output_type": "execute_result"
    }
   ],
   "source": [
    "#croping\n",
    "\n",
    "img=cv.imread(\"C:\\\\Users\\\\Armaan\\\\OneDrive\\\\Desktop\\\\Workspace\\\\OpenCV\\\\Images\\\\2.jpg\")\n",
    "cropped=img[50:200,20:170]\n",
    "cv.imshow(\"Cropped\",cropped)\n",
    "\n",
    "cv.waitKey(0)\n"
   ]
  }
 ],
 "metadata": {
  "kernelspec": {
   "display_name": "main",
   "language": "python",
   "name": "python3"
  },
  "language_info": {
   "codemirror_mode": {
    "name": "ipython",
    "version": 3
   },
   "file_extension": ".py",
   "mimetype": "text/x-python",
   "name": "python",
   "nbconvert_exporter": "python",
   "pygments_lexer": "ipython3",
   "version": "3.11.4"
  },
  "orig_nbformat": 4
 },
 "nbformat": 4,
 "nbformat_minor": 2
}
