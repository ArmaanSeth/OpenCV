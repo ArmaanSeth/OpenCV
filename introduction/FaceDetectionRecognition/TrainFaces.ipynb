{
 "cells": [
  {
   "cell_type": "code",
   "execution_count": 2,
   "metadata": {},
   "outputs": [],
   "source": [
    "import numpy as np\n",
    "import cv2 as cv\n",
    "import os"
   ]
  },
  {
   "cell_type": "code",
   "execution_count": null,
   "metadata": {},
   "outputs": [],
   "source": [
    "people=[]\n",
    "dir=r'FaceData'\n",
    "for i in os.listdir(dir):\n",
    "    people.append(i)"
   ]
  },
  {
   "cell_type": "code",
   "execution_count": null,
   "metadata": {},
   "outputs": [],
   "source": [
    "features=[]\n",
    "labels=[]\n",
    "harrCascade=cv.CascadeClassifier(\"harrCascade_face.xml\")\n",
    "def create_train():\n",
    "    for person in people:\n",
    "        path=os.path.join(dir,person)\n",
    "        label=people.index(person)\n",
    "\n",
    "        for img in os.listdir(path):\n",
    "            img_path=os.path.join(path,img)\n",
    "            img_array=cv.imread(img_path)\n",
    "            grey=cv.cvtColor(img_array,cv.COLOR_BGR2GRAY)\n",
    "            \n",
    "            faces_rect=harrCascade.detectMultiScale(grey,scaleFactor=1.1,minNeighbors=3)\n",
    "\n",
    "            for (x,y,w,h) in faces_rect:\n",
    "                face_roi=grey[y:y+h,x:x+w]\n",
    "                features.append(face_roi)\n",
    "                labels.append(label)"
   ]
  },
  {
   "cell_type": "code",
   "execution_count": 3,
   "metadata": {},
   "outputs": [
    {
     "ename": "NameError",
     "evalue": "name 'features' is not defined",
     "output_type": "error",
     "traceback": [
      "\u001b[1;31m---------------------------------------------------------------------------\u001b[0m",
      "\u001b[1;31mNameError\u001b[0m                                 Traceback (most recent call last)",
      "\u001b[1;32mc:\\Users\\Armaan\\OneDrive\\Desktop\\Workspace\\OpenCV\\introduction\\FaceDetectionRecognition\\TrainFaces.ipynb Cell 4\u001b[0m in \u001b[0;36m1\n\u001b[1;32m----> <a href='vscode-notebook-cell:/c%3A/Users/Armaan/OneDrive/Desktop/Workspace/OpenCV/introduction/FaceDetectionRecognition/TrainFaces.ipynb#W3sZmlsZQ%3D%3D?line=0'>1</a>\u001b[0m features\u001b[39m=\u001b[39mnp\u001b[39m.\u001b[39marray(features,dtype\u001b[39m=\u001b[39m\u001b[39m'\u001b[39m\u001b[39mobject\u001b[39m\u001b[39m'\u001b[39m)\n\u001b[0;32m      <a href='vscode-notebook-cell:/c%3A/Users/Armaan/OneDrive/Desktop/Workspace/OpenCV/introduction/FaceDetectionRecognition/TrainFaces.ipynb#W3sZmlsZQ%3D%3D?line=1'>2</a>\u001b[0m labels\u001b[39m=\u001b[39mnp\u001b[39m.\u001b[39marray(labels)\n\u001b[0;32m      <a href='vscode-notebook-cell:/c%3A/Users/Armaan/OneDrive/Desktop/Workspace/OpenCV/introduction/FaceDetectionRecognition/TrainFaces.ipynb#W3sZmlsZQ%3D%3D?line=3'>4</a>\u001b[0m face_recognizer\u001b[39m=\u001b[39mcv\u001b[39m.\u001b[39mface\u001b[39m.\u001b[39mLBPHFaceRecognizer_create()\n",
      "\u001b[1;31mNameError\u001b[0m: name 'features' is not defined"
     ]
    }
   ],
   "source": [
    "features=np.array(features,dtype='object')\n",
    "labels=np.array(labels)\n",
    "\n",
    "face_recognizer=cv.face.LBPHFaceRecognizer_create()\n",
    "face_recognizer.train(features,labels)\n",
    "\n",
    "face_recognizer.save(\"face_trained .yml\")\n",
    "np.save(\"features.npy\",features)\n",
    "np.save(\"labels.npy\",labels)"
   ]
  }
 ],
 "metadata": {
  "kernelspec": {
   "display_name": "main",
   "language": "python",
   "name": "python3"
  },
  "language_info": {
   "codemirror_mode": {
    "name": "ipython",
    "version": 3
   },
   "file_extension": ".py",
   "mimetype": "text/x-python",
   "name": "python",
   "nbconvert_exporter": "python",
   "pygments_lexer": "ipython3",
   "version": "3.10.11"
  },
  "orig_nbformat": 4
 },
 "nbformat": 4,
 "nbformat_minor": 2
}
