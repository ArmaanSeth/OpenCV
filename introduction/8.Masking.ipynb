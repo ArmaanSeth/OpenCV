{
 "cells": [
  {
   "cell_type": "code",
   "execution_count": 1,
   "metadata": {},
   "outputs": [],
   "source": [
    "import cv2 as cv\n",
    "import numpy as np"
   ]
  },
  {
   "cell_type": "code",
   "execution_count": 2,
   "metadata": {},
   "outputs": [
    {
     "data": {
      "text/plain": [
       "-1"
      ]
     },
     "execution_count": 2,
     "metadata": {},
     "output_type": "execute_result"
    }
   ],
   "source": [
    "img=cv.imread(\"C:\\\\Users\\\\Armaan\\\\OneDrive\\\\Desktop\\\\Workspace\\\\OpenCV\\\\Images\\\\2.jpg\")\n",
    "cv.imshow(\"Cherry\",img)\n",
    "\n",
    "blank=np.zeros(img.shape[:2],dtype='uint8')\n",
    "\n",
    "mask=cv.circle(blank,(img.shape[1]//2,img.shape[0]//2),100,255,-1)\n",
    "cv.imshow(\"Mask\",mask)\n",
    "\n",
    "masked=cv.bitwise_and(img,img,mask=mask)\n",
    "cv.imshow(\"MASKED\",masked)\n",
    "\n",
    "cv.waitKey(0)"
   ]
  }
 ],
 "metadata": {
  "kernelspec": {
   "display_name": "main",
   "language": "python",
   "name": "python3"
  },
  "language_info": {
   "codemirror_mode": {
    "name": "ipython",
    "version": 3
   },
   "file_extension": ".py",
   "mimetype": "text/x-python",
   "name": "python",
   "nbconvert_exporter": "python",
   "pygments_lexer": "ipython3",
   "version": "3.10.11"
  },
  "orig_nbformat": 4
 },
 "nbformat": 4,
 "nbformat_minor": 2
}
