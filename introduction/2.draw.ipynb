{
 "cells": [
  {
   "cell_type": "code",
   "execution_count": 1,
   "metadata": {},
   "outputs": [],
   "source": [
    "import cv2 as cv\n",
    "import numpy as np"
   ]
  },
  {
   "cell_type": "code",
   "execution_count": 9,
   "metadata": {},
   "outputs": [
    {
     "data": {
      "text/plain": [
       "-1"
      ]
     },
     "execution_count": 9,
     "metadata": {},
     "output_type": "execute_result"
    }
   ],
   "source": [
    "#paint blank img\n",
    "blank=np.zeros((500,500),dtype=np.uint8)\n",
    "cv.imshow(\"BLANK\",blank)\n",
    "\n",
    "cv.waitKey(0)"
   ]
  },
  {
   "cell_type": "code",
   "execution_count": 12,
   "metadata": {},
   "outputs": [
    {
     "data": {
      "text/plain": [
       "-1"
      ]
     },
     "execution_count": 12,
     "metadata": {},
     "output_type": "execute_result"
    }
   ],
   "source": [
    "#paint a portion of img\n",
    "\n",
    "color=np.zeros((500,500,3),dtype=np.uint8)\n",
    "color[200:300,300:400]=34,123,25\n",
    "cv.imshow(\"color\",color)\n",
    "\n",
    "cv.waitKey(0)"
   ]
  },
  {
   "cell_type": "code",
   "execution_count": 20,
   "metadata": {},
   "outputs": [
    {
     "data": {
      "text/plain": [
       "-1"
      ]
     },
     "execution_count": 20,
     "metadata": {},
     "output_type": "execute_result"
    }
   ],
   "source": [
    "#draw a rectangle\n",
    "\n",
    "blank=np.zeros((500,500,3),dtype=np.uint8)\n",
    "cv.rectangle(blank,(20,20),(225,225),(34,123,255),thickness=-1)\n",
    "\n",
    "cv.imshow(\"Rectangle\",blank)\n",
    "\n",
    "cv.waitKey(0)"
   ]
  },
  {
   "cell_type": "code",
   "execution_count": 23,
   "metadata": {},
   "outputs": [
    {
     "data": {
      "text/plain": [
       "-1"
      ]
     },
     "execution_count": 23,
     "metadata": {},
     "output_type": "execute_result"
    }
   ],
   "source": [
    "#draw a circle\n",
    "\n",
    "blank=np.zeros((500,500,3),dtype=np.uint8)\n",
    "cv.circle(blank,(250,250),100,(234,244,132),thickness=2)\n",
    "cv.imshow(\"Circle\",blank)\n",
    "\n",
    "cv.waitKey(0)"
   ]
  },
  {
   "cell_type": "code",
   "execution_count": 25,
   "metadata": {},
   "outputs": [
    {
     "data": {
      "text/plain": [
       "-1"
      ]
     },
     "execution_count": 25,
     "metadata": {},
     "output_type": "execute_result"
    }
   ],
   "source": [
    "#draw a line\n",
    "\n",
    "blank=np.zeros((500,500,3),dtype=np.uint8)\n",
    "cv.line(blank,(0,0),(234,123),(122,131,231),thickness=3)\n",
    "cv.imshow(\"Line\",blank)\n",
    "\n",
    "cv.waitKey(0)"
   ]
  },
  {
   "cell_type": "code",
   "execution_count": 29,
   "metadata": {},
   "outputs": [
    {
     "data": {
      "text/plain": [
       "-1"
      ]
     },
     "execution_count": 29,
     "metadata": {},
     "output_type": "execute_result"
    }
   ],
   "source": [
    "# draw text\n",
    "\n",
    "blank=np.zeros((500,500,3),dtype=np.uint8)\n",
    "cv.putText(blank,\"Hello, World!\",(225,225),cv.FONT_HERSHEY_SCRIPT_SIMPLEX,1,(12,223,223),3)\n",
    "cv.imshow(\"Text\",blank)\n",
    "\n",
    "cv.waitKey(0)"
   ]
  },
  {
   "cell_type": "code",
   "execution_count": null,
   "metadata": {},
   "outputs": [],
   "source": []
  }
 ],
 "metadata": {
  "kernelspec": {
   "display_name": "main",
   "language": "python",
   "name": "python3"
  },
  "language_info": {
   "codemirror_mode": {
    "name": "ipython",
    "version": 3
   },
   "file_extension": ".py",
   "mimetype": "text/x-python",
   "name": "python",
   "nbconvert_exporter": "python",
   "pygments_lexer": "ipython3",
   "version": "3.10.11"
  },
  "orig_nbformat": 4
 },
 "nbformat": 4,
 "nbformat_minor": 2
}
