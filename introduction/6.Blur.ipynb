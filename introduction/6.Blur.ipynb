{
 "cells": [
  {
   "cell_type": "code",
   "execution_count": 1,
   "metadata": {},
   "outputs": [],
   "source": [
    "import cv2 as cv"
   ]
  },
  {
   "cell_type": "code",
   "execution_count": 4,
   "metadata": {},
   "outputs": [
    {
     "data": {
      "text/plain": [
       "-1"
      ]
     },
     "execution_count": 4,
     "metadata": {},
     "output_type": "execute_result"
    }
   ],
   "source": [
    "img=cv.imread(\"C:\\\\Users\\\\Armaan\\\\OneDrive\\\\Desktop\\\\Workspace\\\\OpenCV\\\\Images\\\\2.jpg\")\n",
    "cv.imshow(\"Cherry\",img)\n",
    "\n",
    "average=cv.blur(img,(3,3))\n",
    "cv.imshow(\"Average\",average)\n",
    "\n",
    "guassian=cv.GaussianBlur(img,(3,3),0)\n",
    "cv.imshow(\"Guassian\",guassian)\n",
    "\n",
    "median=cv.medianBlur(img,7)\n",
    "cv.imshow(\"Median\",median)\n",
    "\n",
    "bilateral=cv.bilateralFilter(img,10,35,25)\n",
    "cv.imshow(\"Bilateral\",bilateral)\n",
    "cv.waitKey(0)"
   ]
  }
 ],
 "metadata": {
  "kernelspec": {
   "display_name": "main",
   "language": "python",
   "name": "python3"
  },
  "language_info": {
   "codemirror_mode": {
    "name": "ipython",
    "version": 3
   },
   "file_extension": ".py",
   "mimetype": "text/x-python",
   "name": "python",
   "nbconvert_exporter": "python",
   "pygments_lexer": "ipython3",
   "version": "3.10.11"
  },
  "orig_nbformat": 4
 },
 "nbformat": 4,
 "nbformat_minor": 2
}
