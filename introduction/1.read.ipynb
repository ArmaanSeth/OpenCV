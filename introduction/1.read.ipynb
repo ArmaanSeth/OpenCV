{
 "cells": [
  {
   "cell_type": "code",
   "execution_count": 4,
   "metadata": {},
   "outputs": [],
   "source": [
    "import cv2 as cv"
   ]
  },
  {
   "cell_type": "code",
   "execution_count": 3,
   "metadata": {},
   "outputs": [
    {
     "data": {
      "text/plain": [
       "-1"
      ]
     },
     "execution_count": 3,
     "metadata": {},
     "output_type": "execute_result"
    }
   ],
   "source": [
    "# READING IMAGES\n",
    "\n",
    "img=cv.imread(\"C:\\\\Users\\\\Armaan\\\\OneDrive\\\\Desktop\\\\Workspace\\\\OpenCV\\\\Images\\\\2.jpg\")\n",
    "cv.imshow(\"Cherry\",img)\n",
    "cv.waitKey(0)"
   ]
  },
  {
   "cell_type": "code",
   "execution_count": 5,
   "metadata": {},
   "outputs": [
    {
     "ename": "error",
     "evalue": "OpenCV(4.8.0) D:\\a\\opencv-python\\opencv-python\\opencv\\modules\\highgui\\src\\window.cpp:971: error: (-215:Assertion failed) size.width>0 && size.height>0 in function 'cv::imshow'\n",
     "output_type": "error",
     "traceback": [
      "\u001b[1;31m---------------------------------------------------------------------------\u001b[0m",
      "\u001b[1;31merror\u001b[0m                                     Traceback (most recent call last)",
      "\u001b[1;32mc:\\Users\\Armaan\\OneDrive\\Desktop\\Workspace\\OpenCV\\introduction\\1.read.ipynb Cell 3\u001b[0m in \u001b[0;36m6\n\u001b[0;32m      <a href='vscode-notebook-cell:/c%3A/Users/Armaan/OneDrive/Desktop/Workspace/OpenCV/introduction/1.read.ipynb#W2sZmlsZQ%3D%3D?line=3'>4</a>\u001b[0m \u001b[39mwhile\u001b[39;00m \u001b[39mTrue\u001b[39;00m:\n\u001b[0;32m      <a href='vscode-notebook-cell:/c%3A/Users/Armaan/OneDrive/Desktop/Workspace/OpenCV/introduction/1.read.ipynb#W2sZmlsZQ%3D%3D?line=4'>5</a>\u001b[0m     isTrue,frame\u001b[39m=\u001b[39mcapture\u001b[39m.\u001b[39mread()\n\u001b[1;32m----> <a href='vscode-notebook-cell:/c%3A/Users/Armaan/OneDrive/Desktop/Workspace/OpenCV/introduction/1.read.ipynb#W2sZmlsZQ%3D%3D?line=5'>6</a>\u001b[0m     cv\u001b[39m.\u001b[39mimshow(\u001b[39m\"\u001b[39m\u001b[39mVideo\u001b[39m\u001b[39m\"\u001b[39m,frame)\n\u001b[0;32m      <a href='vscode-notebook-cell:/c%3A/Users/Armaan/OneDrive/Desktop/Workspace/OpenCV/introduction/1.read.ipynb#W2sZmlsZQ%3D%3D?line=7'>8</a>\u001b[0m     \u001b[39mif\u001b[39;00m cv\u001b[39m.\u001b[39mwaitKey(\u001b[39m20\u001b[39m) \u001b[39m&\u001b[39m \u001b[39m0xff\u001b[39m\u001b[39m==\u001b[39m\u001b[39mord\u001b[39m(\u001b[39m\"\u001b[39m\u001b[39md\u001b[39m\u001b[39m\"\u001b[39m):\n\u001b[0;32m      <a href='vscode-notebook-cell:/c%3A/Users/Armaan/OneDrive/Desktop/Workspace/OpenCV/introduction/1.read.ipynb#W2sZmlsZQ%3D%3D?line=8'>9</a>\u001b[0m         \u001b[39mbreak\u001b[39;00m\n",
      "\u001b[1;31merror\u001b[0m: OpenCV(4.8.0) D:\\a\\opencv-python\\opencv-python\\opencv\\modules\\highgui\\src\\window.cpp:971: error: (-215:Assertion failed) size.width>0 && size.height>0 in function 'cv::imshow'\n"
     ]
    }
   ],
   "source": [
    "#READING VIDEO\n",
    "\n",
    "capture=cv.VideoCapture(0)\n",
    "while True:\n",
    "    isTrue,frame=capture.read()\n",
    "    cv.imshow(\"Video\",frame)\n",
    "\n",
    "    if cv.waitKey(20) & 0xff==ord(\"d\"):\n",
    "        break\n",
    "capture.release()\n",
    "cv.destroyAllWindows()"
   ]
  },
  {
   "cell_type": "code",
   "execution_count": null,
   "metadata": {},
   "outputs": [],
   "source": [
    "# RESIZING\n",
    "#for images,videos,live videos\n",
    "def resizeFrame(frame,scale=0.75):\n",
    "    height=int(frame.shape[0]*scale)\n",
    "    width=int(frame.shape[1]*scale)\n",
    "    dimensions=(width,height)\n",
    "    return cv.resize(frame,dimensions,interpolation=cv.INTER_AREA)\n",
    "\n",
    "capture=cv.VideoCapture(0)\n",
    "while True:\n",
    "    isTrue,frame=capture.read()\n",
    "    frame_resize=resizeFrame(frame)\n",
    "\n",
    "\n",
    "\n",
    "    cv.imshow(\"Video\",frame_resize)\n",
    "\n",
    "    if cv.waitKey(20) & 0xff==ord(\"d\"):\n",
    "        break\n",
    "capture.release()\n",
    "cv.destroyAllWindows()"
   ]
  },
  {
   "cell_type": "code",
   "execution_count": null,
   "metadata": {},
   "outputs": [],
   "source": [
    "# for only live videos\n",
    "def changeRes(width,height):\n",
    "    capture.set(3,width)\n",
    "    capture.set(4,height)"
   ]
  }
 ],
 "metadata": {
  "kernelspec": {
   "display_name": "main",
   "language": "python",
   "name": "python3"
  },
  "language_info": {
   "codemirror_mode": {
    "name": "ipython",
    "version": 3
   },
   "file_extension": ".py",
   "mimetype": "text/x-python",
   "name": "python",
   "nbconvert_exporter": "python",
   "pygments_lexer": "ipython3",
   "version": "3.10.11"
  },
  "orig_nbformat": 4
 },
 "nbformat": 4,
 "nbformat_minor": 2
}
