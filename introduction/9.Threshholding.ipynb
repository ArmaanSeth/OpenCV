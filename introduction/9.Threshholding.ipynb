{
 "cells": [
  {
   "cell_type": "code",
   "execution_count": 1,
   "metadata": {},
   "outputs": [],
   "source": [
    "import cv2 as cv"
   ]
  },
  {
   "cell_type": "code",
   "execution_count": 4,
   "metadata": {},
   "outputs": [
    {
     "data": {
      "text/plain": [
       "-1"
      ]
     },
     "execution_count": 4,
     "metadata": {},
     "output_type": "execute_result"
    }
   ],
   "source": [
    "img=cv.imread(\"C:\\\\Users\\\\Armaan\\\\OneDrive\\\\Desktop\\\\Workspace\\\\OpenCV\\\\Images\\\\2.jpg\")\n",
    "# cv.imshow(\"Cherry\",img)\n",
    "\n",
    "grey=cv.cvtColor(img,cv.COLOR_BGR2GRAY)\n",
    "cv.imshow(\"Greay\",grey)\n",
    "\n",
    "threshold,thresh=cv.threshold(grey,150,255,cv.THRESH_BINARY)\n",
    "cv.imshow(\"Thresh\",thresh)\n",
    "\n",
    "threshold,inv_thresh=cv.threshold(grey,150,255,cv.THRESH_BINARY_INV)\n",
    "cv.imshow(\"Invers Thresh\",inv_thresh)\n",
    "\n",
    "adaptive_thresh=cv.adaptiveThreshold(grey,255,cv.ADAPTIVE_THRESH_MEAN_C,cv.THRESH_BINARY,11,3)\n",
    "cv.imshow(\"Adaptive Thresh\",adaptive_thresh)\n",
    "\n",
    "cv.waitKey(0)"
   ]
  }
 ],
 "metadata": {
  "kernelspec": {
   "display_name": "main",
   "language": "python",
   "name": "python3"
  },
  "language_info": {
   "codemirror_mode": {
    "name": "ipython",
    "version": 3
   },
   "file_extension": ".py",
   "mimetype": "text/x-python",
   "name": "python",
   "nbconvert_exporter": "python",
   "pygments_lexer": "ipython3",
   "version": "3.10.11"
  },
  "orig_nbformat": 4
 },
 "nbformat": 4,
 "nbformat_minor": 2
}
